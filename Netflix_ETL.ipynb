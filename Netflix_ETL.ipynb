{
 "cells": [
  {
   "cell_type": "code",
   "execution_count": 1,
   "metadata": {},
   "outputs": [],
   "source": [
    "#Import dependencies\n",
    "import os\n",
    "import pandas as pd\n",
    "import time\n",
    "from sqlalchemy import create_engine"
   ]
  },
  {
   "cell_type": "code",
   "execution_count": 2,
   "metadata": {},
   "outputs": [],
   "source": [
    "#Name files\n",
    "ExtractStart = time.time()\n",
    "titlesFile = os.path.join(\"Resources\",\"netflix_titles.csv\")\n",
    "moviesFile = os.path.join(\"Resources\",\"movies_all_streaming.csv\")\n",
    "tvshowsFile = os.path.join(\"Resources\",\"tv_shows_all_streaming.csv\")"
   ]
  },
  {
   "cell_type": "code",
   "execution_count": 3,
   "metadata": {},
   "outputs": [],
   "source": [
    "titles_df = pd.read_csv(titlesFile)\n",
    "\n",
    "movies_df = pd.read_csv(moviesFile)\n",
    "\n",
    "tvshows_df = pd.read_csv(tvshowsFile)\n",
    "\n",
    "ExtractEnd = time.time()\n",
    "ExtractTime = ExtractEnd-ExtractStart\n",
    "TransformStart = ExtractEnd"
   ]
  },
  {
   "cell_type": "code",
   "execution_count": 4,
   "metadata": {},
   "outputs": [],
   "source": [
    "titlesClean = titles_df[\n",
    "                        [\"type\",\"title\",\"country\",\"date_added\",\"release_year\",\"rating\"]]\n",
    "titlesClean = titlesClean.rename(columns={\n",
    "    'release_year':'year'\n",
    "})\n",
    "titlesClean['date_added'] = pd.to_datetime(titlesClean['date_added'])"
   ]
  },
  {
   "cell_type": "code",
   "execution_count": 18,
   "metadata": {},
   "outputs": [],
   "source": [
    "moviesClean = movies_df[\n",
    "    [\"Title\",\"Year\",\"Age\",\"IMDb\",\"Rotten Tomatoes\",\"Netflix\",\"Country\"]\n",
    "]\n",
    "\n",
    "mC_all= len(moviesClean)\n",
    "moviesClean = moviesClean.loc[moviesClean['Netflix']==1]\n",
    "mC_Netflix = len(moviesClean)\n",
    "moviesClean = moviesClean.drop(columns='Netflix')\n",
    "moviesClean = moviesClean.rename(columns={\n",
    "    'Title':'title',\n",
    "    'Year':'year',\n",
    "    'Age':'age',\n",
    "    'IMDb':'imdb',\n",
    "    'Rotten Tomatoes':\"rotten_tomatoes\",\n",
    "    'Country':'country'})"
   ]
  },
  {
   "cell_type": "code",
   "execution_count": 6,
   "metadata": {},
   "outputs": [],
   "source": [
    "movieMerge = pd.merge(titlesClean, moviesClean, on=['title','year'], how='inner')\n",
    "mM_all = len(movieMerge)\n",
    "movieMerge = movieMerge.dropna()\n",
    "mM_complete = len(movieMerge)\n",
    "\n",
    "movieMerge = movieMerge.rename(columns={'country_x':\"country\"})\n",
    "movieMerge = movieMerge.drop(columns='country_y')\n",
    "movieMerge.reset_index(inplace=True,drop=True)\n",
    "mLoss = mC_all - mM_complete"
   ]
  },
  {
   "cell_type": "code",
   "execution_count": 7,
   "metadata": {},
   "outputs": [],
   "source": [
    "tvshowsClean = tvshows_df[[\"Title\",\"Year\",\"Age\",\"IMDb\",\"Rotten Tomatoes\",\"Netflix\"]]\n",
    "\n",
    "tvC_all= len(tvshowsClean)\n",
    "\n",
    "tvshowsClean = tvshowsClean.loc[tvshowsClean['Netflix']==1]\n",
    "tvC_Netflix = len(tvshowsClean)\n",
    "tvshowsClean = tvshowsClean.drop(columns='Netflix')\n",
    "tvshowsClean = tvshowsClean.rename(columns={\n",
    "    'Title':'title',\n",
    "    'Year':'year',\n",
    "    'Age':'age',\n",
    "    'IMDb':'imdb',\n",
    "    'Rotten Tomatoes':\"rotten_tomatoes\"\n",
    "    })"
   ]
  },
  {
   "cell_type": "code",
   "execution_count": 8,
   "metadata": {},
   "outputs": [],
   "source": [
    "tvshowsMerge = pd.merge(titlesClean, tvshowsClean, on=['title','year'], how='inner')\n",
    "tvM_all = len(tvshowsMerge)\n",
    "tvshowsMerge = tvshowsMerge.dropna()\n",
    "tvM_complete = len(tvshowsMerge)\n",
    "\n",
    "tvshowsMerge.reset_index(inplace=True,drop=True)\n",
    "tvLoss = tvC_all - tvM_complete\n",
    "\n",
    "TransformEnd = time.time()\n",
    "TransformTime = TransformEnd-TransformStart\n",
    "LoadStart = TransformEnd"
   ]
  },
  {
   "cell_type": "code",
   "execution_count": 9,
   "metadata": {},
   "outputs": [],
   "source": [
    "connection_string = \"postgres:postgres@localhost:5432/AreYouStillWatching_db\"\n",
    "engine = create_engine(f'postgresql://{connection_string}')"
   ]
  },
  {
   "cell_type": "code",
   "execution_count": 10,
   "metadata": {},
   "outputs": [
    {
     "data": {
      "text/plain": [
       "['final']"
      ]
     },
     "execution_count": 10,
     "metadata": {},
     "output_type": "execute_result"
    }
   ],
   "source": [
    "engine.table_names()"
   ]
  },
  {
   "cell_type": "code",
   "execution_count": 11,
   "metadata": {},
   "outputs": [],
   "source": [
    "movieMerge.to_sql(name='final', con=engine, if_exists='append', index=False)\n",
    "tvshowsMerge.to_sql(name='final', con=engine, if_exists='append', index=False)"
   ]
  },
  {
   "cell_type": "code",
   "execution_count": 19,
   "metadata": {},
   "outputs": [],
   "source": [
    "final_df = pd.read_sql(sql='final',con=engine)\n",
    "final_df.to_csv(\"Output/finalNetflix.csv\")\n",
    "final_len = len(final_df)"
   ]
  },
  {
   "cell_type": "code",
   "execution_count": 13,
   "metadata": {},
   "outputs": [],
   "source": [
    "LoadEnd = time.time()\n",
    "LoadTime = LoadEnd-LoadStart"
   ]
  },
  {
   "cell_type": "code",
   "execution_count": 16,
   "metadata": {},
   "outputs": [],
   "source": [
    "ETLAudit = pd.DataFrame(\n",
    "    {'domain' : 'final',\n",
    "    'row_counts' : final_len,\n",
    "    'extraction_time':str(round(ExtractTime,2)) + ' seconds',\n",
    "    'transform_time':str(round(TransformTime,2)) + ' seconds',\n",
    "    'load_time':str(round(LoadTime,2)) + ' seconds',\n",
    "    'movie_errors':mLoss,\n",
    "    'tv_errors':tvLoss\n",
    "    },index=[0])\n",
    "ETLAudit.to_html('Output/Audit.html')"
   ]
  },
  {
   "cell_type": "code",
   "execution_count": null,
   "metadata": {},
   "outputs": [],
   "source": []
  }
 ],
 "metadata": {
  "kernelspec": {
   "display_name": "Python 3",
   "language": "python",
   "name": "python3"
  },
  "language_info": {
   "codemirror_mode": {
    "name": "ipython",
    "version": 3
   },
   "file_extension": ".py",
   "mimetype": "text/x-python",
   "name": "python",
   "nbconvert_exporter": "python",
   "pygments_lexer": "ipython3",
   "version": "3.8.5"
  }
 },
 "nbformat": 4,
 "nbformat_minor": 4
}
